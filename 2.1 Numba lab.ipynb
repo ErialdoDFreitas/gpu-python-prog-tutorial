{
  "cells": [
    {
      "cell_type": "markdown",
      "id": "9af66fe0-71ee-4a4c-b16d-e7288a7aa863",
      "metadata": {
        "id": "9af66fe0-71ee-4a4c-b16d-e7288a7aa863"
      },
      "source": [
        "# Numba Lab\n",
        "\n",
        "Now it's your turn!\n",
        "\n",
        "Your challenge is to implement Fizz Buzz in CUDA Python with numba and calculate all instances of `Fizz`, `Buzz` and `Fizz Buzz` for the numbers between `1` and `50_000_000`."
      ]
    },
    {
      "cell_type": "code",
      "execution_count": 30,
      "id": "83342135-ae20-44f4-b807-d8a0e715a41b",
      "metadata": {
        "id": "83342135-ae20-44f4-b807-d8a0e715a41b"
      },
      "outputs": [],
      "source": [
        "#Import the libs\n",
        "import numpy as np\n",
        "from numba import cuda"
      ]
    },
    {
      "cell_type": "code",
      "source": [
        "#Setting the variables relating of the problem range, and the number of threads\n",
        "problem_size = 50_000_000\n",
        "num_threads = 128"
      ],
      "metadata": {
        "id": "l5uADBt4mzKT"
      },
      "id": "l5uADBt4mzKT",
      "execution_count": 31,
      "outputs": []
    },
    {
      "cell_type": "markdown",
      "id": "58f3fbf4-7e50-43de-9ddb-f7fd6a3cf7d3",
      "metadata": {
        "id": "58f3fbf4-7e50-43de-9ddb-f7fd6a3cf7d3"
      },
      "source": [
        "**1. Create the input data array.** Try using `np.arange`."
      ]
    },
    {
      "cell_type": "code",
      "execution_count": 34,
      "id": "75188098-ad67-4ebc-8123-48aa40071524",
      "metadata": {
        "id": "75188098-ad67-4ebc-8123-48aa40071524",
        "outputId": "e0a7138e-368f-4ea7-8a66-3677b3cc0cf7",
        "colab": {
          "base_uri": "https://localhost:8080/"
        }
      },
      "outputs": [
        {
          "output_type": "execute_result",
          "data": {
            "text/plain": [
              "array([       1,        2,        3, ..., 49999998, 49999999, 50000000])"
            ]
          },
          "metadata": {},
          "execution_count": 34
        }
      ],
      "source": [
        "input_data = np.arange(1, problem_size + 1, dtype=np.int64)\n",
        "input_data"
      ]
    },
    {
      "cell_type": "markdown",
      "id": "3334d891-8331-4bad-8528-b16e0e2f0719",
      "metadata": {
        "id": "3334d891-8331-4bad-8528-b16e0e2f0719"
      },
      "source": [
        "**2. Create the output data array.**"
      ]
    },
    {
      "cell_type": "code",
      "execution_count": 35,
      "id": "2bc25714-5f7c-4653-b660-0fca3a7682b9",
      "metadata": {
        "id": "2bc25714-5f7c-4653-b660-0fca3a7682b9",
        "outputId": "e3362cf4-6a0a-4299-b7fa-bb10b19a732f",
        "colab": {
          "base_uri": "https://localhost:8080/"
        }
      },
      "outputs": [
        {
          "output_type": "execute_result",
          "data": {
            "text/plain": [
              "array([0, 0, 0, ..., 0, 0, 0])"
            ]
          },
          "metadata": {},
          "execution_count": 35
        }
      ],
      "source": [
        "output = np.zeros(problem_size, dtype=np.int64)\n",
        "output"
      ]
    },
    {
      "cell_type": "markdown",
      "id": "67ad1fed-bae3-4e1c-aaac-c90a798a8024",
      "metadata": {
        "id": "67ad1fed-bae3-4e1c-aaac-c90a798a8024"
      },
      "source": [
        "**3. Calculate the number of threads and blocks.**"
      ]
    },
    {
      "cell_type": "code",
      "execution_count": 36,
      "id": "d91f35c7-bbbc-4cd3-bd60-38231ffbbf91",
      "metadata": {
        "id": "d91f35c7-bbbc-4cd3-bd60-38231ffbbf91",
        "outputId": "d1aba3d9-9fc6-4316-dadd-f9697a489dc1",
        "colab": {
          "base_uri": "https://localhost:8080/"
        }
      },
      "outputs": [
        {
          "output_type": "execute_result",
          "data": {
            "text/plain": [
              "390625"
            ]
          },
          "metadata": {},
          "execution_count": 36
        }
      ],
      "source": [
        "num_blocks = np.ceil(problem_size / num_threads).astype(np.int64)\n",
        "num_blocks"
      ]
    },
    {
      "cell_type": "markdown",
      "id": "9d562640-0cd6-434c-9f90-8e7ebc02ccba",
      "metadata": {
        "id": "9d562640-0cd6-434c-9f90-8e7ebc02ccba"
      },
      "source": [
        "**4. Create the kernel.** _Tip: Our output array must be numeric so try using the values `1`, `2` and `3` to represent `Fizz`, `Buzz` and `Fizz Buzz`._"
      ]
    },
    {
      "cell_type": "code",
      "execution_count": 37,
      "id": "5706c5b9-6010-407e-95a3-6cecade6ab5c",
      "metadata": {
        "id": "5706c5b9-6010-407e-95a3-6cecade6ab5c"
      },
      "outputs": [],
      "source": [
        "@cuda.jit\n",
        "def fizz_buzz(input_array, output_array):\n",
        "    pos = cuda.grid(1)\n",
        "    if pos < input_array.size:\n",
        "      value = input_array[pos]\n",
        "      if value % 15 == 0:\n",
        "        output_array[pos] = 3 #FizzBus\n",
        "      elif value % 5 == 0:\n",
        "        output_array[pos] = 2 #Bus\n",
        "      elif value % 3 == 0:\n",
        "        output_array[pos] = 1 #Fizz\n",
        "      else:\n",
        "        output_array[pos] = 0\n"
      ]
    },
    {
      "cell_type": "code",
      "source": [
        "d_input_array = cuda.to_device(input_data)\n",
        "d_output_array = cuda.to_device(output)"
      ],
      "metadata": {
        "id": "TRr30ecM0A2C"
      },
      "id": "TRr30ecM0A2C",
      "execution_count": null,
      "outputs": []
    },
    {
      "cell_type": "markdown",
      "id": "c0bded64-c8d3-4165-9141-54b97112e58b",
      "metadata": {
        "id": "c0bded64-c8d3-4165-9141-54b97112e58b"
      },
      "source": [
        "**5. Run our kernel.**"
      ]
    },
    {
      "cell_type": "code",
      "execution_count": 38,
      "id": "3177d207-d9c6-4624-8ed1-b4b79e6f8ba2",
      "metadata": {
        "id": "3177d207-d9c6-4624-8ed1-b4b79e6f8ba2",
        "outputId": "3a20db5c-e4ed-4eef-d5b5-c0e01619a46d",
        "colab": {
          "base_uri": "https://localhost:8080/"
        }
      },
      "outputs": [
        {
          "output_type": "stream",
          "name": "stdout",
          "text": [
            "15th value: 3, expected: 3 (Fizz)\n",
            "20th value: 2, expected: 2 (Buzz)\n",
            "CPU times: user 270 ms, sys: 85.3 ms, total: 355 ms\n",
            "Wall time: 389 ms\n"
          ]
        },
        {
          "output_type": "execute_result",
          "data": {
            "text/plain": [
              "array([0, 0, 1, 0, 2, 1, 0, 0, 1, 2, 0, 1, 0, 0, 3])"
            ]
          },
          "metadata": {},
          "execution_count": 38
        }
      ],
      "source": [
        "%%time\n",
        "fizz_buzz[num_blocks, num_threads](d_input_array, d_output_array)\n",
        "\n",
        "cuda.synchronize()\n",
        "\n",
        "results = d_output_array.copy_to_host()\n",
        "\n",
        "print(f\"15th value: {results[14]}, expected: 3 (Fizz)\")\n",
        "print(f\"20th value: {results[19]}, expected: 2 (Buzz)\")\n",
        "results[:15]"
      ]
    },
    {
      "cell_type": "markdown",
      "id": "5fddf47e-3d1d-4cbb-9405-44141fdb5d2f",
      "metadata": {
        "id": "5fddf47e-3d1d-4cbb-9405-44141fdb5d2f"
      },
      "source": [
        "**Extra Credit 6. Calculate the highest instance of `Fizz`.**"
      ]
    },
    {
      "cell_type": "code",
      "execution_count": 39,
      "id": "a9b6ccf7-4f1b-4ad3-bad1-5dd9ea0fccb0",
      "metadata": {
        "id": "a9b6ccf7-4f1b-4ad3-bad1-5dd9ea0fccb0",
        "outputId": "e0a268f3-adbf-4678-c692-341d5872b707",
        "colab": {
          "base_uri": "https://localhost:8080/"
        }
      },
      "outputs": [
        {
          "output_type": "execute_result",
          "data": {
            "text/plain": [
              "49999998"
            ]
          },
          "metadata": {},
          "execution_count": 39
        }
      ],
      "source": [
        "idx = np.max(np.where(input_data % 3 == 0))\n",
        "input_data[idx]"
      ]
    },
    {
      "cell_type": "code",
      "source": [
        "from numba import cuda\n",
        "import numpy as np\n",
        "\n",
        "# Definindo a função FizzBuzz para rodar na GPU\n",
        "@cuda.jit\n",
        "def fizz_buzz(input_array, output_array):\n",
        "    pos = cuda.grid(1)\n",
        "    if pos < input_array.size:  # Verificando se a posição está dentro do range do array\n",
        "        value = input_array[pos]\n",
        "        if value % 15 == 0:\n",
        "            output_array[pos] = 3  # FizzBuzz\n",
        "        elif value % 5 == 0:\n",
        "            output_array[pos] = 2  # Buzz\n",
        "        elif value % 3 == 0:\n",
        "            output_array[pos] = 1  # Fizz\n",
        "        else:\n",
        "            output_array[pos] = 0  # Nenhum\n",
        "\n",
        "# Tamanho do problema\n",
        "problem_size = 50_000_000\n",
        "\n",
        "# Tamanho do bloco (número de threads por bloco)\n",
        "block_size = 128\n",
        "\n",
        "# Número de blocos\n",
        "num_blocks = np.ceil(problem_size / block_size).astype(np.int64)\n",
        "\n",
        "# Criando o array de números e o array de resultados\n",
        "numbers = np.arange(1, problem_size + 1, dtype=np.int64)\n",
        "results = np.zeros(problem_size, dtype=np.int64)\n",
        "\n",
        "# Transferindo os dados para a GPU\n",
        "d_numbers = cuda.to_device(numbers)\n",
        "d_results = cuda.to_device(results)\n",
        "\n",
        "# Executando a função na GPU\n",
        "fizz_buzz[num_blocks, num_threads](d_numbers, d_results)\n",
        "\n",
        "# Recuperando os resultados da GPU\n",
        "results = d_results.copy_to_host()\n",
        "\n",
        "# Contando as ocorrências de Fizz, Buzz e FizzBuzz\n",
        "fizz_count = np.count_nonzero(results == 1)\n",
        "buzz_count = np.count_nonzero(results == 2)\n",
        "fizz_buzz_count = np.count_nonzero(results == 3)\n",
        "\n",
        "print(f\"Fizz: {fizz_count}, Buzz: {buzz_count}, FizzBuzz: {fizz_buzz_count}\")\n"
      ],
      "metadata": {
        "id": "zgNUtbUuumGC",
        "outputId": "20e5d140-1b0b-4160-994a-a6550a1c4034",
        "colab": {
          "base_uri": "https://localhost:8080/"
        }
      },
      "id": "zgNUtbUuumGC",
      "execution_count": 11,
      "outputs": [
        {
          "output_type": "stream",
          "name": "stdout",
          "text": [
            "Fizz: 13333333, Buzz: 6666667, FizzBuzz: 3333333\n"
          ]
        }
      ]
    }
  ],
  "metadata": {
    "kernelspec": {
      "display_name": "Python 3",
      "name": "python3"
    },
    "language_info": {
      "codemirror_mode": {
        "name": "ipython",
        "version": 3
      },
      "file_extension": ".py",
      "mimetype": "text/x-python",
      "name": "python",
      "nbconvert_exporter": "python",
      "pygments_lexer": "ipython3",
      "version": "3.10.13"
    },
    "colab": {
      "provenance": [],
      "toc_visible": true,
      "gpuType": "T4"
    },
    "accelerator": "GPU"
  },
  "nbformat": 4,
  "nbformat_minor": 5
}