{
 "cells": [
  {
   "cell_type": "markdown",
   "id": "11150e25-024f-46cb-8ec5-992864291646",
   "metadata": {},
   "source": [
    "<img src=\"images/cuda-python.jpg\" style=\"float: right;\" />\n",
    "\n",
    "# GPU Development in Python 101\n",
    "\n",
    "_Written by [Jacob Tomlinson](https://jacobtomlinson.dev)_\n",
    "\n",
    "**Welcome to the GPU Development in Python 101 tutorial.**\n",
    "\n",
    "I joined NVIDIA in 2019 and since then I’ve gotten to grips with the fundamentals of writing accelerated code in Python. I was amazed to discover that I didn’t need to learn C++ and I didn’t need new development tools. Writing GPU code in Python is easier today than ever, and in this tutorial, I will share what I’ve learned and how you can get started with accelerating your code.\n",
    "\n",
    "In this tutorial we will cover:\n",
    "- What is a GPU and why is it different to a CPU?\n",
    "- An overview of the CUDA development model.\n",
    "- Numba: A high performance compiler for Python.\n",
    "- Writing your first GPU code in Python.\n",
    "- Managing memory.\n",
    "- Understanding what your GPU is doing with pyNVML (memory usage, utilization, etc).\n",
    "- RAPIDS: A suite of GPU accelerated data science libraries.\n",
    "- Working with Numpy style arrays on the GPU.\n",
    "- Working with Pandas style dataframes on the GPU.\n",
    "- Performing some scikit-learn style machine learning on the GPU.\n",
    "\n",
    "Attendees will be expected to have a general knowledge of Python and programming concepts, but no GPU experience will be necessary. The key takeaway for attendees will be the knowledge that they don’t have to do much differently to get their code running on a GPU."
   ]
  },
  {
   "cell_type": "markdown",
   "id": "6cee88d4-a78d-4013-be48-d30834a9becd",
   "metadata": {},
   "source": [
    "Outline:\n",
    "- **Chapter 1** - Intro to GPUs (30 mins)\n",
    "- **Chapter 2** - Writing low level GPU code in Python with Numba (30 mins)\n",
    "- **Chapter 3** - Inspecting your GPU usage with pyNVML (10 mins)\n",
    "- **Chapter 4** - Working with NumPy style arrays in Cupy (30 mins)\n",
    "- **Chapter 5** - Interoperability (30 mins)\n",
    "- **Chapter 6** - Accelerating DataFrames with cuDF (30 mins)\n",
    "- **Chapter 7** - High performance machine learning with cuML (30 mins)\n",
    "- **Chapter 8** - Distributing GPU Python code with Dask (30 mins)"
   ]
  }
 ],
 "metadata": {
  "kernelspec": {
   "display_name": "Python 3 (ipykernel)",
   "language": "python",
   "name": "python3"
  },
  "language_info": {
   "codemirror_mode": {
    "name": "ipython",
    "version": 3
   },
   "file_extension": ".py",
   "mimetype": "text/x-python",
   "name": "python",
   "nbconvert_exporter": "python",
   "pygments_lexer": "ipython3",
   "version": "3.9.13"
  }
 },
 "nbformat": 4,
 "nbformat_minor": 5
}
